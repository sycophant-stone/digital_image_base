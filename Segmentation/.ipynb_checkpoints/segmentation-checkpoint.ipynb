{
 "cells": [
  {
   "cell_type": "code",
   "execution_count": null,
   "metadata": {
    "collapsed": true
   },
   "outputs": [],
   "source": [
    "import cv2\n",
    "import numpy as np\n",
    "import os\n",
    "import matplotlib.pyplot as plt"
   ]
  },
  {
   "cell_type": "code",
   "execution_count": null,
   "metadata": {
    "collapsed": true
   },
   "outputs": [],
   "source": [
    "originImage = cv2.imread(\"lena.jpg\")\n",
    "grayImage = cv2.cvtColor(originImage,cv2.COLOR_BGR2GRAY)\n",
    "originImage32x32 = cv2.imread(\"lena_32x32.jpg\")\n",
    "grayImage32x32 = cv2.cvtColor(originImage32x32,cv2.COLOR_BGR2GRAY)\n",
    "plt.subplot(1, 3, 1)\n",
    "plt.title(\"full\")\n",
    "plt.imshow(originImage)\n",
    "plt.subplot(1, 3, 2)\n",
    "plt.title(\"gray\")\n",
    "plt.gray()\n",
    "plt.imshow(grayImage)"
   ]
  },
  {
   "cell_type": "code",
   "execution_count": null,
   "metadata": {
    "collapsed": true
   },
   "outputs": [],
   "source": [
    "# 按照src图逐个像素计算个数.\n",
    "# 灰度像素范围0~255.\n",
    "# 返回灰度直方图统计\n",
    "def calcHistgram(src):\n",
    "    w,h = src.shape\n",
    "    grayHist=np.zeros([256],np.uint64)\n",
    "    for r in range(h):\n",
    "        for c in range(w):\n",
    "            grayHist[src[r,c]]+=1\n",
    "    \n",
    "    return grayHist\n"
   ]
  },
  {
   "cell_type": "code",
   "execution_count": 2,
   "metadata": {},
   "outputs": [],
   "source": [
    "def calcTwoPeaksAndThreash(src):\n",
    "    # 得到hist统计\n",
    "    histgram=calcHistgram(src)\n",
    "    # 找到hist直方图中第一个最大峰值的像素值.\n",
    "    maxLoc=np.where(histgram==np.max(histgram))\n",
    "    # np.where返回相等的index.这里index也就是像素值.范围0~255\n",
    "    firstPeak=maxLoc[0][0]\n",
    "    # 计算第二个峰值\n",
    "    measureDists=np.zeros([256],np.float32)\n",
    "    for k in range(256):\n",
    "        measureDists[k]=(k-firstPeak)**2*histgram[k]\n",
    "    maxLoc2=np.where(measureDists==np.max(measureDists))\n",
    "    secondPeak=maxLoc2[0][0]\n",
    "    # 找到两个波峰间的最小值作为threashold.\n",
    "    threash=0\n",
    "    if firstPeak > secondPeak: # 第一个峰值在第二个峰值的右边.\n",
    "        partHist=histgram[secondPeak:firstPeak]\n",
    "        minLoc=np.where(partHist==np.min(partHist))\n",
    "        threash=secondPeak+minLoc[0][0]+1\n",
    "    else:\n",
    "        partHist=histgram[firstPeak:secondPeak]\n",
    "        minLoc=np.where(partHist==np.min(partHist))\n",
    "        threash=firstPeak+minLoc[0][0]+1\n",
    "    # 找到阈值后进行二分处理\n",
    "    threahImage_out = src.copy()\n",
    "    threahImage_out[threahImage_out>threash]=255\n",
    "    threahImage_out[threahImage_out<=threash]=0\n",
    "    return (threash,threahImage_out)\n",
    "        \n",
    "    "
   ]
  },
  {
   "cell_type": "code",
   "execution_count": null,
   "metadata": {
    "collapsed": true
   },
   "outputs": [],
   "source": []
  }
 ],
 "metadata": {
  "kernelspec": {
   "display_name": "Python 3",
   "language": "python",
   "name": "python3"
  },
  "language_info": {
   "codemirror_mode": {
    "name": "ipython",
    "version": 3
   },
   "file_extension": ".py",
   "mimetype": "text/x-python",
   "name": "python",
   "nbconvert_exporter": "python",
   "pygments_lexer": "ipython3",
   "version": "3.5.2"
  }
 },
 "nbformat": 4,
 "nbformat_minor": 2
}
