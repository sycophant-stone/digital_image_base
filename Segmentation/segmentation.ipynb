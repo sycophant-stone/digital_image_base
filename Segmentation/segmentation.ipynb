{
 "cells": [
  {
   "cell_type": "code",
   "execution_count": null,
   "metadata": {
    "collapsed": true
   },
   "outputs": [],
   "source": [
    "import cv2\n",
    "import numpy as np\n",
    "import os\n",
    "import matplotlib.pyplot as plt"
   ]
  },
  {
   "cell_type": "code",
   "execution_count": null,
   "metadata": {
    "collapsed": true
   },
   "outputs": [],
   "source": [
    "originImage = cv2.imread(\"lena.jpg\")\n",
    "grayImage = cv2.cvtColor(originImage,cv2.COLOR_BGR2GRAY)\n",
    "originImage32x32 = cv2.imread(\"lena_32x32.jpg\")\n",
    "grayImage32x32 = cv2.cvtColor(originImage32x32,cv2.COLOR_BGR2GRAY)\n",
    "plt.subplot(1, 3, 1)\n",
    "plt.title(\"full\")\n",
    "plt.imshow(originImage)\n",
    "plt.subplot(1, 3, 2)\n",
    "plt.title(\"gray\")\n",
    "plt.gray()\n",
    "plt.imshow(grayImage)"
   ]
  },
  {
   "cell_type": "code",
   "execution_count": null,
   "metadata": {
    "collapsed": true
   },
   "outputs": [],
   "source": [
    "# 按照src图逐个像素计算个数.\n",
    "# 灰度像素范围0~255.\n",
    "# 返回灰度直方图统计\n",
    "def calcHistgram(src):\n",
    "    w,h = src.shape\n",
    "    grayHist=np.zeros([256],np.uint64)\n",
    "    for r in range(h):\n",
    "        for c in range(w):\n",
    "            grayHist[src[r,c]]+=1\n",
    "    \n",
    "    return grayHist\n"
   ]
  },
  {
   "cell_type": "markdown",
   "metadata": {},
   "source": [
    "#### two peaks' segmentation\n",
    "\n",
    "> the 1st peak\n",
    "find the max peak\n",
    "\n",
    "> the 2ed peak\n",
    "\n",
    "$$peak_{second}=argmax_{k=0}^{K=255}(k-peak_{frist})^{2}*histgram[k]$$"
   ]
  },
  {
   "cell_type": "code",
   "execution_count": 2,
   "metadata": {
    "collapsed": true
   },
   "outputs": [],
   "source": [
    "def calcTwoPeaksAndThreash(src):\n",
    "    # 得到hist统计\n",
    "    histgram=calcHistgram(src)\n",
    "    # 找到hist直方图中第一个最大峰值的像素值.\n",
    "    maxLoc=np.where(histgram==np.max(histgram))\n",
    "    # np.where返回相等的index.这里index也就是像素值.范围0~255\n",
    "    firstPeak=maxLoc[0][0]\n",
    "    # 计算第二个峰值\n",
    "    measureDists=np.zeros([256],np.float32)\n",
    "    for k in range(256):\n",
    "        measureDists[k]=(k-firstPeak)**2*histgram[k]\n",
    "    maxLoc2=np.where(measureDists==np.max(measureDists))\n",
    "    secondPeak=maxLoc2[0][0]\n",
    "    # 找到两个波峰间的最小值作为threashold.\n",
    "    threash=0\n",
    "    if firstPeak > secondPeak: # 第一个峰值在第二个峰值的右边.\n",
    "        partHist=histgram[secondPeak:firstPeak]\n",
    "        minLoc=np.where(partHist==np.min(partHist))\n",
    "        threash=secondPeak+minLoc[0][0]+1\n",
    "    else:\n",
    "        partHist=histgram[firstPeak:secondPeak]\n",
    "        minLoc=np.where(partHist==np.min(partHist))\n",
    "        threash=firstPeak+minLoc[0][0]+1\n",
    "    # 找到阈值后进行二分处理\n",
    "    threahImage_out = src.copy()\n",
    "    threahImage_out[threahImage_out>threash]=255\n",
    "    threahImage_out[threahImage_out<=threash]=0\n",
    "    return (threash,threahImage_out)\n",
    "        \n",
    "    "
   ]
  },
  {
   "cell_type": "code",
   "execution_count": 3,
   "metadata": {},
   "outputs": [
    {
     "ename": "NameError",
     "evalue": "name 'grayImage' is not defined",
     "output_type": "error",
     "traceback": [
      "\u001b[0;31m---------------------------------------------------------------------------\u001b[0m",
      "\u001b[0;31mNameError\u001b[0m                                 Traceback (most recent call last)",
      "\u001b[0;32m<ipython-input-3-d640b01fcaa4>\u001b[0m in \u001b[0;36m<module>\u001b[0;34m()\u001b[0m\n\u001b[0;32m----> 1\u001b[0;31m \u001b[0mthreash\u001b[0m\u001b[0;34m,\u001b[0m\u001b[0mthreah_out\u001b[0m\u001b[0;34m=\u001b[0m\u001b[0mcalcTwoPeaksAndThreash\u001b[0m\u001b[0;34m(\u001b[0m\u001b[0mgrayImage\u001b[0m\u001b[0;34m)\u001b[0m\u001b[0;34m\u001b[0m\u001b[0m\n\u001b[0m\u001b[1;32m      2\u001b[0m \u001b[0mprint\u001b[0m\u001b[0;34m(\u001b[0m\u001b[0;34m\"threah:\"\u001b[0m\u001b[0;34m,\u001b[0m\u001b[0mthreash\u001b[0m\u001b[0;34m)\u001b[0m\u001b[0;34m\u001b[0m\u001b[0m\n\u001b[1;32m      3\u001b[0m \u001b[0mplt\u001b[0m\u001b[0;34m.\u001b[0m\u001b[0msubplot\u001b[0m\u001b[0;34m(\u001b[0m\u001b[0;36m1\u001b[0m\u001b[0;34m,\u001b[0m \u001b[0;36m1\u001b[0m\u001b[0;34m,\u001b[0m \u001b[0;36m1\u001b[0m\u001b[0;34m)\u001b[0m\u001b[0;34m\u001b[0m\u001b[0m\n\u001b[1;32m      4\u001b[0m \u001b[0mplt\u001b[0m\u001b[0;34m.\u001b[0m\u001b[0mtitle\u001b[0m\u001b[0;34m(\u001b[0m\u001b[0;34m\"threash image\"\u001b[0m\u001b[0;34m)\u001b[0m\u001b[0;34m\u001b[0m\u001b[0m\n\u001b[1;32m      5\u001b[0m \u001b[0mplt\u001b[0m\u001b[0;34m.\u001b[0m\u001b[0mimshow\u001b[0m\u001b[0;34m(\u001b[0m\u001b[0mthreah_out\u001b[0m\u001b[0;34m)\u001b[0m\u001b[0;34m\u001b[0m\u001b[0m\n",
      "\u001b[0;31mNameError\u001b[0m: name 'grayImage' is not defined"
     ]
    }
   ],
   "source": [
    "threash,threah_out=calcTwoPeaksAndThreash(grayImage)\n",
    "print(\"threah:\",threash)\n",
    "plt.subplot(1, 1, 1)\n",
    "plt.title(\"threash image\")\n",
    "plt.imshow(threah_out)"
   ]
  },
  {
   "cell_type": "markdown",
   "metadata": {},
   "source": [
    "### entropy segmentation\n",
    "\n",
    "1.信息熵定义\n",
    "\n",
    "$$entropy(u)=-\\sum _{i=1}^{N}p_ilogp_i$$\n",
    "\n",
    "2.概率直方图\n",
    "\n",
    "$$normHist=\\frac{grayHist}{w*h}$$\n",
    "\n",
    "3.累加概率直方图\n",
    "\n",
    "$$cumeHist(k)= \\sum_{i=0}^{k}normHist_I(i),k \\in [0,255]$$\n",
    "\n",
    "4.各个灰度级熵\n",
    "\n",
    "$$entropy(t)=-\\sum_{k=0}^{t}normHist_I(t)*log_{10}(normHist_I(t)), 0\\leq t\\leq 255$$\n",
    "\n",
    "5.f1(x)和f2(x)\n",
    "\n",
    "$$f_1(t)=\\frac{entropy(t)}{entropy(255)}*\\frac{log_{10}(cumuHist(t))}{log_{10}(max(cumuHist(0),cumuHist(1),...,cumuHist(t)))}$$\n",
    "\n",
    "$$f_2(t)=(1-\\frac{entropy(t)}{entropy(255)})*\\frac{log_{10}(1-cumuHist(t))}{log_{10}(max(cumuHist(t+1),cumuHist(t+2),...,cumuHist(255)))}$$"
   ]
  },
  {
   "cell_type": "code",
   "execution_count": 5,
   "metadata": {
    "collapsed": true
   },
   "outputs": [],
   "source": [
    "def calcNormHist(histgram,w,h):\n",
    "    return histgram/(float(w*h))\n",
    "\n",
    "def calcCumuNormHist(normhist):\n",
    "    cumuHist=np.zeros([256],np.float32)\n",
    "    for k in range(256):\n",
    "        if k ==0:\n",
    "            cumuHist[k]=normhist(k)\n",
    "        else:\n",
    "            cumuHist[k]=cumuHist[k-1]+normhist[k]\n",
    "    \n",
    "    return cumuHist\n",
    "\n",
    "def calcGrayscaleEntropy(normhist):\n",
    "    grayscaleEnt=np.zeros([256],np.float32)\n",
    "    for k in range(256):\n",
    "        if k==0:\n",
    "            if normhist[k]==0:\n",
    "                grayscaleEnt[k]=0\n",
    "            else:\n",
    "                grayscaleEnt[k]=-normhist[k]*math.log10(normhist[k])\n",
    "        else:\n",
    "            if normhist[k]==0:\n",
    "                grayscaleEnt[k]=grayscaleEnt[k-1]\n",
    "            else:\n",
    "                grayscaleEnt[k]=grayscaleEnt[k-1]-normhist[k]*math.log10(normhist[k])\n",
    "    return grayscaleEnt"
   ]
  },
  {
   "cell_type": "code",
   "execution_count": 6,
   "metadata": {
    "collapsed": true
   },
   "outputs": [],
   "source": [
    "def threashEntropy(src):\n",
    "    histgram=calcHistgram(src)\n",
    "    normHist=calcNormHist(histgram)\n",
    "    cumuHist=calcCumuNormHist(normHist)\n",
    "    grayscaleEnt = calcGrayscaleEntropy(normHist)\n",
    "    # 计算ft1和ft2\n",
    "    fT=np.zeros([256],np.float32)\n",
    "    ft1,ft2=0.0,0.0\n",
    "    for k in range(255): # 遍历k,每次k作为ft1和ft2分割点.\n",
    "        maxFront=np.max(cumuHist[0:k+1])\n",
    "        maxBack=np.max(cumuHist[k+1:256])\n",
    "        if(maxFront==0 or maxFront==1 or cumuHist[k]==0 or cumuHist[k]==1 or entropy[255]==0):\n",
    "            ft1=0.0\n",
    "        else:\n",
    "            ft1 = entropy[k]/entropy[255]*(math.log10(cumuHist[k])/math.log10(maxFront))\n",
    "        \n",
    "        if(maxBack==0 or maxBack==1 or cumuHist[k]==0 or cumuHist[k]==1 or entropy[255]==0):\n",
    "            ft2 = 0.0\n",
    "        else:\n",
    "            ft2 = (1-entropy[k])/entropy[255]*(math.log10(1-cumuHist[k])/math.log10(maxBack))\n",
    "        \n",
    "        fT[k]=ft1+ft2\n",
    "    \n",
    "    # 找到最大值索引\n",
    "    \n",
    "    threashLoc=np.where(fT==np.max(fT))\n",
    "    thresh=threashLoc[0][0]\n",
    "    \n",
    "    # 根据阈值做图像分割\n",
    "    \n",
    "    threshhold_image = src.copy()\n",
    "    threshhold_image[threshhold_image>thresh]=255\n",
    "    threshhold_image[threshhold_image<=thresh]=0\n",
    "    \n",
    "    return threshhold_image\n",
    "\n"
   ]
  },
  {
   "cell_type": "markdown",
   "metadata": {},
   "source": [
    "### ostu \n",
    "\n",
    "1.误差定义\n",
    "$$mean=oneCumuHist[255]$$\n",
    "$$\\sigma ^2(k)=\\frac{(mean*zeroCumuHist(k)-oneCumuHist(k))^2}{zeroCumuHist(k)*(1-zeroCumuHist(k))}$$\n",
    "\n",
    "2.找到最大误差的那个灰度级,依次作为阈值,对图像分割.\n",
    "$$threash=arg_{k\\in [0,255)}max(\\sigma ^2(k))$$"
   ]
  },
  {
   "cell_type": "code",
   "execution_count": null,
   "metadata": {
    "collapsed": true
   },
   "outputs": [],
   "source": [
    "\n",
    "def calcZeroAndOneCumuNormHist(normhist):\n",
    "    zeroCumuHist=np.zeros([256],np.float32)\n",
    "    oneCumuHist=np.zeros([256],np.float32)\n",
    "    for k in range(256):\n",
    "        if k ==0:\n",
    "            zeroCumuHist[k]=normhist(k)\n",
    "            oneCumuHist[k]=(k)*normhist(k)\n",
    "        else:\n",
    "            zeroCumuHist[k]=zeroCumuHist[k-1]+normhist[k]\n",
    "            oneCumuHist[k]=oneCumuHist[k-1]+(k)*normhist[k]\n",
    "    \n",
    "    return zeroCumuHist,oneCumuHist\n",
    "\n",
    "def ostu(src):\n",
    "    histgram=calcHistgram(src)\n",
    "    normHist=calcNormHist(histgram)\n",
    "    zeroCumuHist,oneCumuHist=calcZeroAndOneCumuNormHist(normHist) # 计算得到zero和one的cumulative的概率分布\n",
    "    # 计算类间方差\n",
    "    variance=np.zeros([256],np.float32)\n",
    "    for k in range(255):\n",
    "        if zeroCumuHist[k]==0 or zeroCumuHist[k]==1:\n",
    "            variance[k]=0\n",
    "        else:\n",
    "            variance[k]=math.pow(oneCumuHist[255]*zeroCumuHist[k]-oneCumuHist[k],2)/(zeroCumuHist[k]*(1-zeroCumuHist[k]))\n",
    "\n",
    "    # 找到阈值\n",
    "    varLoc=np.where(variance=np.max(variance))\n",
    "    thresh=varLoc[0][0]\n",
    "    # 切分\n",
    "    \n",
    "    thresh_img=src.copy()\n",
    "    thresh_img[thresh_img>thresh]=255\n",
    "    thresh_img[thresh_img<=thresh]=0\n",
    "    \n",
    "    return (threash,thresh_img)\n"
   ]
  },
  {
   "cell_type": "markdown",
   "metadata": {},
   "source": [
    "### 自适应阈值分割\n",
    "\n",
    "凭经验,平滑窗口的宽度应该大于待识别物体的宽度.平滑尺寸越大,越能更好的作为每个像素的参考."
   ]
  },
  {
   "cell_type": "code",
   "execution_count": null,
   "metadata": {
    "collapsed": true
   },
   "outputs": [],
   "source": [
    "def adaptiveThreash(src,winsize,ratio=0.15):\n",
    "    I_mean=cv2.boxFilter(src,cv2.CV_32FC1,winsize)\n",
    "    out=src-(1-ratio)*I_mean\n",
    "    out[out>=0]=255\n",
    "    out[out<0]=0\n",
    "    out=out.astype(np.uint8)\n",
    "    return out"
   ]
  }
 ],
 "metadata": {
  "kernelspec": {
   "display_name": "Python 3",
   "language": "python",
   "name": "python3"
  },
  "language_info": {
   "codemirror_mode": {
    "name": "ipython",
    "version": 3
   },
   "file_extension": ".py",
   "mimetype": "text/x-python",
   "name": "python",
   "nbconvert_exporter": "python",
   "pygments_lexer": "ipython3",
   "version": "3.6.3"
  }
 },
 "nbformat": 4,
 "nbformat_minor": 2
}
