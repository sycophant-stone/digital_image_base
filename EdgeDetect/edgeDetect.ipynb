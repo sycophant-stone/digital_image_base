{
 "cells": [
  {
   "cell_type": "code",
   "execution_count": null,
   "metadata": {
    "collapsed": true
   },
   "outputs": [],
   "source": [
    "import cv2\n",
    "import numpy as np\n",
    "import os\n",
    "import matplotlib.pyplot as plt"
   ]
  },
  {
   "cell_type": "code",
   "execution_count": null,
   "metadata": {
    "collapsed": true
   },
   "outputs": [],
   "source": [
    "originImage = cv2.imread(\"lena.jpg\")\n",
    "grayImage = cv2.cvtColor(originImage,cv2.COLOR_BGR2GRAY)\n",
    "originImage32x32 = cv2.imread(\"lena_32x32.jpg\")\n",
    "grayImage32x32 = cv2.cvtColor(originImage32x32,cv2.COLOR_BGR2GRAY)\n",
    "plt.subplot(1, 3, 1)\n",
    "plt.title(\"full\")\n",
    "plt.imshow(originImage)\n",
    "plt.subplot(1, 3, 2)\n",
    "plt.title(\"gray\")\n",
    "plt.gray()\n",
    "plt.imshow(grayImage)"
   ]
  },
  {
   "cell_type": "code",
   "execution_count": 1,
   "metadata": {
    "collapsed": true
   },
   "outputs": [],
   "source": [
    "# full类型卷积操作.\n",
    "#\n",
    "# ax,ay: anchor's location\n",
    "\n",
    "def conv2d_same(src,kernel,ax,ay,stride):\n",
    "    kw,kh=kernel.shape\n",
    "    iw,ih=src.shape\n",
    "    r=int(kw/2)\n",
    "    dst=src.copy()\n",
    "    dst_full=np.pad(dst,((r,r),(r,r)),constant_values=(0,0)) # 扩充2r个0\n",
    "    dest = dst_full.copy()\n",
    "    #for i in range(r,iw+4*r-r-1):\n",
    "    #    for j in range(r,ih+4*r-r-1):\n",
    "    i=j=r\n",
    "    iw,ih=dest.shape\n",
    "    odds=(kw%2==1)?1:0\n",
    "    while i< iw+2*r-r-odds:\n",
    "        while j<ih+2*r-r-odds:\n",
    "            temp=kernel*dst_full[(i-r):(i+r+odds),(j-r):(j+r+odds)]\n",
    "            dest[ax,ay]=np.sum(temp)\n",
    "            j+=stride\n",
    "            ay+=stride\n",
    "        i+=stride\n",
    "        ax+=stride\n",
    "\n",
    "    return dest\n",
    "def conv1d_same(src,kernel,ax,ay,stride):\n",
    "    kw,kh=kernel.shape\n",
    "    if kw<=1 and kh <=1:\n",
    "        print(\"wrong kernel size\")\n",
    "        return \n",
    "    if kh==1: # 一行n列的kernel,按行卷积\n",
    "        r=int(kw/2)\n",
    "        dst=src.copy()\n",
    "        dst_full=np.pad(dst,((r,r),(0,0)),constant_values=(0,0)) # 扩充2r个0\n",
    "        dest = dst_full.copy()\n",
    "        iw,ih=dest.shape\n",
    "        odds=(kw%2==1)?1:0\n",
    "        while i<iw+2*r-r-odds:\n",
    "            while j<ih:\n",
    "                temp=kernel*dst_full[(i-r):(i+r+odds),j]\n",
    "                dest[ax,ay]=np.sum(temp)\n",
    "                i+=stride\n",
    "            j++\n",
    "    else if kw==1:# n行一列\n",
    "        r=int(kh/2)\n",
    "        dst=src.copy()\n",
    "        dst_full=np.pad(dst,((0,0),(r,r)),constant_values=(0,0)) # 扩充2r个0\n",
    "        dest = dst_full.copy()\n",
    "        iw,ih=dest.shape\n",
    "        odds=(kh%2==1)?1:0\n",
    "        while i<iw:\n",
    "            while j<ih+2*r-r-odds:\n",
    "                temp=kernel*dst_full[i,(j-r):(j+r+odds)]\n",
    "                dest[ax,ay]=np.sum(temp)\n",
    "                j+=stride\n",
    "            i++       \n",
    "    \n",
    "    return dest"
   ]
  },
  {
   "cell_type": "code",
   "execution_count": 2,
   "metadata": {
    "collapsed": true
   },
   "outputs": [],
   "source": [
    "def roberts_edge(src):\n",
    "    # 生成两个roberts算子\n",
    "    R1=np.array([1,0],[0,-1],np.float32)\n",
    "    R2=np.array([0,1],[-1,0],np.float32)\n",
    "    IconR1=conv2d_same(src,R1,0,0,stride=1)\n",
    "    IconR2=conv2d_same(src,R2,0,1,stride=1)\n",
    "    IconR1=np.abs(IconR1)\n",
    "    IconR1=IconR1.astype(np.uint8)\n",
    "    IconR2=np.abs(IconR2)\n",
    "    IconR2=IconR2.astype(np.uint8)\n",
    "    cv2.imshow(\"edge45\",IconR1)\n",
    "    cv2.imshow(\"edge135\",IconR2)\n",
    "    edge_all=np.sprt(np.power(IconR1,2.0)+np.power(IconR2,2.0))\n",
    "    edge_all=np.round(edge_all)\n",
    "    edge_all[edge_all>255]=255\n",
    "    edge_all=edge_all.astype(uint8)\n",
    "    cv2.imshow(\"edgeall\",edge_all)\n",
    "\n",
    "roberts_edge(grayImage)"
   ]
  },
  {
   "cell_type": "code",
   "execution_count": null,
   "metadata": {},
   "outputs": [],
   "source": []
  },
  {
   "cell_type": "code",
   "execution_count": null,
   "metadata": {
    "collapsed": true
   },
   "outputs": [],
   "source": []
  }
 ],
 "metadata": {
  "kernelspec": {
   "display_name": "Python 3",
   "language": "python",
   "name": "python3"
  },
  "language_info": {
   "codemirror_mode": {
    "name": "ipython",
    "version": 3
   },
   "file_extension": ".py",
   "mimetype": "text/x-python",
   "name": "python",
   "nbconvert_exporter": "python",
   "pygments_lexer": "ipython3",
   "version": "3.5.2"
  }
 },
 "nbformat": 4,
 "nbformat_minor": 2
}
