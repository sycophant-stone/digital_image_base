{
 "cells": [
  {
   "cell_type": "markdown",
   "metadata": {},
   "source": [
    "### Harris\n",
    "\n",
    "1. 基于局部信号的自相关函数.当一个窗口在图像中滑动时:\n",
    "    1. 如果滑过某块区域,窗口内灰度值变化不剧烈,这个是平坦区域.\n",
    "    2. 如果滑过边缘的正交方向,窗口内灰度值变化剧烈.这是个边缘.\n",
    "    3. 当无论朝着哪个方向滑动,窗口内灰度值变化都剧烈.那这是个角点.\n",
    "\n",
    "2. 自适应函数\n",
    "\n",
    "$$c(x,y)=\\sum_{(u,v)\\in W(x,y)}w(u,v)[I(u,v)-I(u+\\delta u,v+ \\delta v)]^2$$\n",
    "\n",
    "w(u,v)是加权函数,可以是常数,也可以是高斯加权函数.\n",
    "\n",
    "利用泰勒一阶展开,得到一个自相关矩阵\n",
    "\n",
    "$$\\begin{bmatrix}\n",
    "a & b\\\\ \n",
    "c & d\n",
    "\\end{bmatrix}=\\begin{bmatrix}\n",
    "\\sum_{u} (I_x(u,v))^2 & \\sum_{u} (I_x(u,v)I_y(u,v)) & \\\\ \n",
    "\\sum_{u} (I_x(u,v)I_y(u,v))  & \\sum_{u}(I_y(u,v))^2  & \n",
    "\\end{bmatrix}$$\n",
    "\n",
    "3. lamda1 和lamda2是自相关矩阵的两个特征值\n",
    "    1. lamda1和lamda2都很小时,表示是平坦\n",
    "    2. lamda1或lamda2有一个很大,一个很小时,表示是边缘.\n",
    "    3. lamda1和lamda2都很大时,表示的是角点.\n",
    "\n",
    "4. 求解析解很费时.因此可以求一个lamda1和lamda2的相对大小来描述3中的三个行为.\n",
    "$$R=\\lambda _1\\lambda _2-k(\\lambda _1+\\lambda _2)^2$$\n",
    "\n",
    "det是行列式,trace是矩阵的迹\n",
    "\n",
    "$$R=det(C(x,y))-k(trace(C(x,y)))^2$$\n",
    "\n",
    "相应的有:\n",
    "\n",
    "$$det(C(x,y))=\\lambda_1\\lambda_2=ac-b^2$$\n",
    "$$trace(C(x,y))=\\lambda_1+\\lambda_2=a+c$$\n",
    "\n",
    "k取值0.04~0.06间"
   ]
  },
  {
   "cell_type": "code",
   "execution_count": 1,
   "metadata": {},
   "outputs": [],
   "source": [
    "import os\n",
    "import sys \n",
    "abs_path=os.path.abspath(os.curdir)\n",
    "cvlib_path=abs_path+\"/../cvlib/\"\n",
    "sys.path.append(cvlib_path)\n",
    "from convs import *\n",
    "from sobel import *"
   ]
  },
  {
   "cell_type": "code",
   "execution_count": 2,
   "metadata": {},
   "outputs": [],
   "source": [
    "def harris():\n",
    "    dx,dy=getSobelKernel(3)\n",
    "    print(dx)\n",
    "    print(dy)"
   ]
  },
  {
   "cell_type": "code",
   "execution_count": 3,
   "metadata": {},
   "outputs": [
    {
     "name": "stdout",
     "output_type": "stream",
     "text": [
      "[[ 1.  2.  1.]]\n",
      "[[ 1.  0. -1.]]\n",
      "kernel and image should be square\n",
      "kernel and image should be square\n",
      "None\n",
      "None\n"
     ]
    }
   ],
   "source": [
    "harris()"
   ]
  },
  {
   "cell_type": "code",
   "execution_count": null,
   "metadata": {},
   "outputs": [],
   "source": []
  }
 ],
 "metadata": {
  "kernelspec": {
   "display_name": "Python 3",
   "language": "python",
   "name": "python3"
  },
  "language_info": {
   "codemirror_mode": {
    "name": "ipython",
    "version": 3
   },
   "file_extension": ".py",
   "mimetype": "text/x-python",
   "name": "python",
   "nbconvert_exporter": "python",
   "pygments_lexer": "ipython3",
   "version": "3.6.2"
  }
 },
 "nbformat": 4,
 "nbformat_minor": 2
}
