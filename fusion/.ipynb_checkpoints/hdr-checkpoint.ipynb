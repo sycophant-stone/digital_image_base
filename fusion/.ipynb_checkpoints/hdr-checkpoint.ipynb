{
 "cells": [
  {
   "cell_type": "markdown",
   "metadata": {},
   "source": [
    "### fusion"
   ]
  },
  {
   "cell_type": "code",
   "execution_count": null,
   "metadata": {},
   "outputs": [],
   "source": [
    "import os\n",
    "import sys \n",
    "import cv2\n",
    "import numpy as np\n",
    "import matplotlib.pyplot as plt\n",
    "import math\n",
    "from scipy.signal import *\n",
    "#scipy.signal.convolve2d\n",
    "\n",
    "abs_path=os.path.abspath(os.curdir)\n",
    "cvlib_path=abs_path+\"/../cvlib/\"\n",
    "sys.path.append(cvlib_path)\n",
    "from convs import *\n",
    "from sobel import *"
   ]
  },
  {
   "cell_type": "code",
   "execution_count": null,
   "metadata": {},
   "outputs": [],
   "source": [
    "originImage = cv2.imread(\"../lena.jpg\")\n",
    "grayImage = cv2.cvtColor(originImage,cv2.COLOR_BGR2GRAY)\n",
    "originImage32x32 = cv2.imread(\"../lena_32x32.jpg\")\n",
    "grayImage32x32 = cv2.cvtColor(originImage32x32,cv2.COLOR_BGR2GRAY)\n",
    "plt.subplot(1, 4, 1)\n",
    "plt.title(\"full\")\n",
    "plt.imshow(originImage)\n",
    "plt.subplot(1, 4, 2)\n",
    "plt.title(\"gray\")\n",
    "plt.gray()\n",
    "plt.imshow(grayImage)\n",
    "\n",
    "triangleImage = cv2.imread(\"../triangle512x512.jpg\")\n",
    "graytriangleImage = cv2.cvtColor(triangleImage,cv2.COLOR_BGR2GRAY)\n",
    "plt.subplot(1, 4, 3)\n",
    "plt.title(\"triangle\")\n",
    "plt.gray()\n",
    "plt.imshow(triangleImage)\n",
    "graytriangleImage_anti=255-graytriangleImage\n",
    "plt.subplot(1, 4, 4)\n",
    "plt.title(\"anti-triangle\")\n",
    "plt.gray()\n",
    "plt.imshow(graytriangleImage_anti)"
   ]
  },
  {
   "cell_type": "code",
   "execution_count": null,
   "metadata": {},
   "outputs": [],
   "source": []
  },
  {
   "cell_type": "markdown",
   "metadata": {},
   "source": [
    "#### Gaussian pyramid\n",
    "1. sigmas\n",
    "    \n",
    "    1. 高斯金字塔有O组金字塔,每组内部是分辨率相同但是filter尺度不同的图像.\n",
    "    O组的最大如下(向下取整):\n",
    "    $$O=log_2min(X,Y)-2$$\n",
    "    \n",
    "    2. 单一组内金字塔的层数S(Lowe建议s为3)\n",
    "    $$S=s+3$$\n",
    "    \n",
    "    3, 但一组内每层的sigma,sigma0是基层的.\n",
    "    $$\\sigma _0,k\\sigma _0,k^2\\sigma _0,k^3\\sigma _0,k^4\\sigma _0$$\n",
    "    \n",
    "    4. k的确定,s为小s.\n",
    "    $$k=2^{\\frac{1}{s}}$$\n",
    "    $$\\sigma=k^r\\sigma_0;  r\\in[0,...,s+2]$$\n",
    "    \n",
    "    5. 每组外,靠金字塔上的一组是本组的down size.\n",
    "    \n",
    "    6. 第1组的sigma\n",
    "    $$\\sigma=2k^r\\sigma_0;  r\\in[0,...,s+2]$$\n",
    "    \n",
    "    \n",
    "> 综合:\n",
    "    $$\\sigma(o,r)=\\sigma_02^{o+\\frac{r}{s}}$$\n",
    "    \n",
    "2. gaussian filter\n",
    "\n",
    "3. downsize\n",
    "\n"
   ]
  },
  {
   "cell_type": "code",
   "execution_count": null,
   "metadata": {},
   "outputs": [],
   "source": [
    "def downsize(src,stride=2):\n",
    "    w,h=src.shape\n",
    "    dest=np.zeros((int(w/2),int(h/2)),np.float32)\n",
    "    for i in range(int(w/2)):\n",
    "        for j in range(int(h/2)):\n",
    "            dest[i,j]=src[i*2,j*2]\n",
    "    return dest\n",
    "def upsize(src,stride=2):\n",
    "    w,h=src.shape\n",
    "    dest=np.zeros((int(w*2),int(h*2)),np.float32)\n",
    "    for i in range(int(w)):\n",
    "        for j in range(int(h)):\n",
    "            dest[i*stride,j*stride]=src[i,j]\n",
    "            dest[i*stride+1,j*stride+1]=0\n",
    "    return dest\n",
    "    "
   ]
  },
  {
   "cell_type": "code",
   "execution_count": null,
   "metadata": {},
   "outputs": [],
   "source": [
    "def Gaussian_pyramid(src,sigma,layer,group):\n",
    "    #gf_img=Gaussian_filter(src=src,sigma=1.3, k_h=3,k_w=3)\n",
    "    # step1 calc sigmas\n",
    "    s=layer\n",
    "    sigmas=np.zeros((s+3,1),np.float32)\n",
    "    S=s+3\n",
    "    k=np.power(2,1.0/s)\n",
    "    sigmas[0]=sigma\n",
    "    for layeridx in range(1,s+3):\n",
    "        sig_prev=np.power(k,layeridx-1)*sigmas[0]\n",
    "        sig_cur=sig_prev*k\n",
    "        sig_guassian=np.sqrt(sig_cur**2-sig_prev**2)\n",
    "        sigmas[layeridx]=sig_guassian\n",
    "    print(\"k:%s\",k)\n",
    "    #return sigmas\n",
    "    print(sigmas)\n",
    "    dest={}\n",
    "    for o in range(group):\n",
    "        for i in range(s+3):\n",
    "            if o==0 and i==0:\n",
    "                temp=src.copy()\n",
    "                dest[(o,i)]=src\n",
    "            elif i==0:\n",
    "                temp=dest[(o-1,s)].copy()\n",
    "                #print(\"o:%s,i:%s,shape:%s\"%(o,i,temp.shape))\n",
    "                dest[(o,i)]=downsize(temp,2)\n",
    "                #print(\"dest[o:%s,i:%s]:%s\"%(o,i,dest[(o,i)].shape))\n",
    "            else:\n",
    "                temp=dest[(o,i-1)].copy()\n",
    "                dest[(o,i)]=Gaussian_filter(temp,sigmas[i],7,7)\n",
    "                #dest[(o,i)]=cv2.GaussianBlur(temp,(7,7),sigmas[i])\n",
    "                print(dest[(o,i)].shape)\n",
    "     \n",
    "    return dest,sigmas"
   ]
  },
  {
   "cell_type": "code",
   "execution_count": null,
   "metadata": {},
   "outputs": [],
   "source": [
    "dict_img,sigmas=Gaussian_pyramid(grayImage,1.5,3,3)\n"
   ]
  },
  {
   "cell_type": "markdown",
   "metadata": {},
   "source": [
    "---\n",
    "##### cv2 Gaussian kernel\n",
    "```python\n",
    "A=cv2.getGaussianKernel(3,1.5)\n",
    "B=A*A.T\n",
    "print(B)\n",
    "print(Gaussian_filter(dict_img[(0,0)],1.5,3,3))\n",
    "```\n",
    "\n",
    "##### np crop array\n",
    "\n",
    "```python\n",
    "A={}\n",
    "A[(0,0)]=(1,2)\n",
    "A[(0,1)]=(3,4)\n",
    "print(A)\n",
    "```\n",
    "```python\n",
    "A=np.array([[1,2,3,4],[4,5,6,4],[7,8,9,4]])\n",
    "B=A[1:3,1:3]\n",
    "B\n",
    "```\n",
    "---"
   ]
  },
  {
   "cell_type": "code",
   "execution_count": null,
   "metadata": {},
   "outputs": [],
   "source": [
    "plt.subplot(1, 3, 1)\n",
    "plt.title(\"0,3\")\n",
    "plt.imshow(dict_img[(0,3)])\n",
    "plt.subplot(1, 3, 2)\n",
    "plt.title(\"1,3\")\n",
    "plt.imshow(dict_img[(1,3)])\n",
    "plt.subplot(1, 3, 3)\n",
    "plt.title(\"2,5\")\n",
    "plt.imshow(dict_img[(2,5)])"
   ]
  },
  {
   "cell_type": "code",
   "execution_count": null,
   "metadata": {},
   "outputs": [],
   "source": [
    "plt.subplot(1, 1, 1)\n",
    "plt.title(\"2,5\")\n",
    "plt.imshow(dict_img[(2,5)])\n",
    "print(dict_img[(2,5)][127,127])"
   ]
  },
  {
   "cell_type": "code",
   "execution_count": null,
   "metadata": {},
   "outputs": [],
   "source": []
  },
  {
   "cell_type": "markdown",
   "metadata": {},
   "source": [
    "### Laplacian pyramid"
   ]
  },
  {
   "cell_type": "code",
   "execution_count": null,
   "metadata": {},
   "outputs": [],
   "source": [
    "def Laplacian_pyramid(gDict,group,layer,sigmas):\n",
    "    lap_dest={}\n",
    "    for o in range(group-1):\n",
    "        for s in range(layer+3): # 少一层 \n",
    "            # 高斯当前层\n",
    "            gcurLayer=gDict[(o,s)]\n",
    "            # 高斯上一层\n",
    "            gUpperLayer=gDict[(o+1,s)]\n",
    "            gUpSizeUpperLayer=upsize(gUpperLayer,2)\n",
    "            gUpSizeUpperLayerGuass=Gaussian_filter(gUpSizeUpperLayer,sigmas[s],7,7)\n",
    "            #print(\"gcurLayer.shape:\",gcurLayer.shape)\n",
    "            #print(\"gUpSizeUpperLayerGuass.shape:\",gUpSizeUpperLayerGuass.shape)\n",
    "            minw=min(gcurLayer.shape[0],gUpSizeUpperLayerGuass.shape[0])\n",
    "            if gcurLayer.shape[0]!=minw:\n",
    "                gcurLayer=gcurLayer[:minw,:minw]\n",
    "            if gUpSizeUpperLayerGuass.shape[0]!=minw:\n",
    "                gUpSizeUpperLayerGuass=gUpSizeUpperLayerGuass[:minw,:minw]\n",
    "            lap_dest[(o,s)]=gcurLayer-gUpSizeUpperLayerGuass\n",
    "    return lap_dest"
   ]
  },
  {
   "cell_type": "code",
   "execution_count": null,
   "metadata": {},
   "outputs": [],
   "source": [
    "lap_img=Laplacian_pyramid(dict_img,3,3,sigmas)"
   ]
  },
  {
   "cell_type": "code",
   "execution_count": null,
   "metadata": {},
   "outputs": [],
   "source": [
    "plt.subplot(1, 3, 1)\n",
    "plt.title(\"0,3\")\n",
    "plt.imshow(lap_img[(0,3)])\n",
    "plt.subplot(1, 3, 2)\n",
    "plt.title(\"1,3\")\n",
    "plt.imshow(lap_img[(1,2)])\n",
    "plt.subplot(1, 3, 3)\n",
    "plt.title(\"2,5\")\n",
    "plt.imshow(lap_img[(1,4)])"
   ]
  },
  {
   "cell_type": "markdown",
   "metadata": {},
   "source": [
    "### tow image fusion"
   ]
  },
  {
   "cell_type": "code",
   "execution_count": null,
   "metadata": {},
   "outputs": [],
   "source": [
    "def image_fusion(src1,src2):\n",
    "    o=3\n",
    "    s=3\n",
    "    dict_src1,sigmas_src1=Gaussian_pyramid(src1,1.5,3,3)\n",
    "    lap_src1=Laplacian_pyramid(dict_src1,3,3,sigmas_src1)\n",
    "    dict_src2,sigmas_src2=Gaussian_pyramid(src2,1.5,3,3)\n",
    "    lap_src2=Laplacian_pyramid(dict_src2,3,3,sigmas_src2)\n",
    "    \n",
    "    \n",
    "    lap_fusion_img={}\n",
    "    \n",
    "    for oi in range(o-1):\n",
    "        for si in range(s-1):\n",
    "            src1_lap_temp=lap_src1[(oi,si)]\n",
    "            src2_lap_temp=lap_src2[(oi,si)]\n",
    "            \n",
    "            minw=min(src1_lap_temp.shape[0],src2_lap_temp.shape[0])\n",
    "            if src1_lap_temp.shape[0]!=minw:\n",
    "                src1_lap_temp=src1_lap_temp[:minw,:minw]\n",
    "            if src2_lap_temp.shape[0]!=minw:\n",
    "                src2_lap_temp=src2_lap_temp[:minw,:minw]\n",
    "            \n",
    "            w,h=src1_lap_temp.shape\n",
    "            temp=np.zeros((w,h),np.float32)\n",
    "            for i in range(w):\n",
    "                for j in range(h):\n",
    "                    if src1_lap_temp[i,j] < src2_lap_temp[i,j]:\n",
    "                        temp[i,j]=src2_lap_temp[i,j]\n",
    "                    else:\n",
    "                        temp[i,j]=src1_lap_temp[i,j]\n",
    "            \n",
    "            lap_fusion_img[(oi,si)]=temp\n",
    "    w,h=src1.shape\n",
    "    #restore_img=np.zeros((w,h),np.float32)\n",
    "    restore_img=lap_fusion_img[(0,0)]\n",
    "    for oi in range(1,o-1):\n",
    "        for si in range(1,s-1):\n",
    "            temp=lap_fusion_img[(oi,si)]\n",
    "            tempUpper=upsize(temp,2)\n",
    "            tempUpperGuassian=Gaussian_filter(tempUpper,sigmas_src1[s],7,7)\n",
    "            if tempUpperGuassian.shape[0]!=w:\n",
    "                tempUpperGuassian=tempUpperGuassian[:w,:w]\n",
    "            restore_img+=tempUpperGuassian\n",
    "    \n",
    "    return restore_img,lap_src1,dict_src1,lap_src2,dict_src2,lap_fusion_img\n",
    "\n",
    "\n",
    "        \n",
    "    \n",
    "    "
   ]
  },
  {
   "cell_type": "code",
   "execution_count": null,
   "metadata": {},
   "outputs": [],
   "source": [
    "fusion_img,lap_src1,dict_src1,lap_src2,dict_src2,lap_fusion_img=image_fusion(grayImage,graytriangleImage_anti)"
   ]
  },
  {
   "cell_type": "code",
   "execution_count": null,
   "metadata": {},
   "outputs": [],
   "source": [
    "plt.subplot(1, 1, 1)\n",
    "plt.title(\"fusion_img\")\n",
    "plt.imshow(fusion_img)\n",
    "#print(fusion_img)"
   ]
  },
  {
   "cell_type": "code",
   "execution_count": null,
   "metadata": {},
   "outputs": [],
   "source": [
    "#lap_src1,dict_src1,lap_src2,dict_src2,lap_fusion_img\n",
    "plt.subplot(1, 1, 1)\n",
    "plt.title(\"triangle 01\")\n",
    "plt.imshow(dict_src2[(0,1)])\n",
    "#print(fusion_img)"
   ]
  },
  {
   "cell_type": "markdown",
   "metadata": {},
   "source": [
    "#### low and over jpg fusion"
   ]
  },
  {
   "cell_type": "code",
   "execution_count": null,
   "metadata": {},
   "outputs": [],
   "source": [
    "fusion_img,lap_src1,dict_src1,lap_src2,dict_src2,lap_fusion_img=image_fusion(grayImage,graytriangleImage_anti)"
   ]
  },
  {
   "cell_type": "code",
   "execution_count": null,
   "metadata": {},
   "outputs": [],
   "source": [
    "lowImage = cv2.imread(\"../low_exp.jpg\")\n",
    "graylowImage = cv2.cvtColor(lowImage,cv2.COLOR_BGR2GRAY)\n",
    "\n",
    "overImage = cv2.imread(\"../over_exp.jpg\")\n",
    "grayoverImage = cv2.cvtColor(overImage,cv2.COLOR_BGR2GRAY)\n",
    "\n",
    "\n",
    "\n",
    "lo_fusion_img,lo_lap_src1,lo_dict_src1,lo_lap_src2,lo_dict_src2,lo_lap_fusion_img=image_fusion(graylowImage,grayoverImage)\n",
    "\n",
    "plt.subplot(1, 1, 1)\n",
    "plt.title(\"low over fusion_img\")\n",
    "plt.imshow(lo_fusion_img)\n"
   ]
  },
  {
   "cell_type": "code",
   "execution_count": null,
   "metadata": {},
   "outputs": [],
   "source": [
    "plt.subplot(1, 2, 1)\n",
    "plt.title(\"low exp\")\n",
    "plt.imshow(graylowImage)\n",
    "plt.subplot(1, 2, 2)\n",
    "plt.title(\"over exp\")\n",
    "plt.gray()\n",
    "plt.imshow(grayoverImage)\n"
   ]
  },
  {
   "cell_type": "markdown",
   "metadata": {},
   "source": [
    "#### hdr with mask reconstruction"
   ]
  },
  {
   "cell_type": "code",
   "execution_count": null,
   "metadata": {},
   "outputs": [],
   "source": [
    "def image_fusion_with_mask(src1,src2,mask):\n",
    "    o=3\n",
    "    s=3\n",
    "    dict_src1,sigmas_src1=Gaussian_pyramid(src1,1.5,3,3)\n",
    "    lap_src1=Laplacian_pyramid(dict_src1,3,3,sigmas_src1)\n",
    "    dict_src2,sigmas_src2=Gaussian_pyramid(src2,1.5,3,3)\n",
    "    lap_src2=Laplacian_pyramid(dict_src2,3,3,sigmas_src2)\n",
    "    dict_mask,sigmas_mask=Gaussian_pyramid(mask,1.5,3,3)\n",
    "    lap_mask=Laplacian_pyramid(dict_src2,3,3,sigmas_mask)\n",
    "    \n",
    "    \n",
    "    lap_fusion_img={}\n",
    "    \n",
    "    for oi in range(o-1):\n",
    "        for si in range(s-1):\n",
    "            src1_lap_temp=lap_src1[(oi,si)]\n",
    "            src2_lap_temp=lap_src2[(oi,si)]\n",
    "            mask_lap_temp=lap_mask[(oi,si)]\n",
    "            \n",
    "            minw=min(src1_lap_temp.shape[0],src2_lap_temp.shape[0])\n",
    "            if src1_lap_temp.shape[0]!=minw:\n",
    "                src1_lap_temp=src1_lap_temp[:minw,:minw]\n",
    "            if src2_lap_temp.shape[0]!=minw:\n",
    "                src2_lap_temp=src2_lap_temp[:minw,:minw]\n",
    "            \n",
    "            w,h=src1_lap_temp.shape\n",
    "            temp=np.zeros((w,h),np.float32)\n",
    "            for i in range(w):\n",
    "                for j in range(h):\n",
    "                    #(im1_pyramid[i] * (1.0 - mask_pyramid[i]) + im2_pyramid[i] * mask_pyramid[i])\n",
    "                    '''\n",
    "                    if src1_lap_temp[i,j] < src2_lap_temp[i,j]:\n",
    "                        temp[i,j]=src2_lap_temp[i,j]\n",
    "                    else:\n",
    "                        temp[i,j]=src1_lap_temp[i,j]\n",
    "                    '''\n",
    "                    temp[i,j]=src1_lap_temp[i,j]*(255-mask_lap_temp[i,j])+src2_lap_temp[i,j]*mask_lap_temp[i,j]\n",
    "            lap_fusion_img[(oi,si)]=temp\n",
    "    w,h=src1.shape\n",
    "    #restore_img=np.zeros((w,h),np.float32)\n",
    "    restore_img=lap_fusion_img[(0,0)]\n",
    "    for oi in range(1,o-1):\n",
    "        for si in range(1,s-1):\n",
    "            temp=lap_fusion_img[(oi,si)]\n",
    "            tempUpper=upsize(temp,2)\n",
    "            tempUpperGuassian=Gaussian_filter(tempUpper,sigmas_src1[s],7,7)\n",
    "            if tempUpperGuassian.shape[0]!=w:\n",
    "                tempUpperGuassian=tempUpperGuassian[:w,:w]\n",
    "            restore_img+=tempUpperGuassian\n",
    "    \n",
    "    return restore_img,lap_src1,dict_src1,lap_src2,dict_src2,lap_fusion_img\n",
    "\n",
    "\n",
    "        \n",
    "    \n",
    "    "
   ]
  },
  {
   "cell_type": "code",
   "execution_count": null,
   "metadata": {},
   "outputs": [],
   "source": [
    "maskImage = cv2.imread(\"../mask.jpg\")\n",
    "graymaskImage = cv2.cvtColor(lowImage,cv2.COLOR_BGR2GRAY)\n",
    "\n",
    "\n",
    "masklo_fusion_img,masklo_lap_src1,masklo_dict_src1,masklo_lap_src2,masklo_dict_src2,masklo_lap_fusion_img=image_fusion_with_mask(graylowImage,grayoverImage,graymaskImage)\n",
    "\n"
   ]
  },
  {
   "cell_type": "code",
   "execution_count": null,
   "metadata": {},
   "outputs": [],
   "source": [
    "plt.subplot(1, 1, 1)\n",
    "plt.title(\"masklo_lap_fusion_img\")\n",
    "plt.imshow(masklo_fusion_img)"
   ]
  },
  {
   "cell_type": "code",
   "execution_count": null,
   "metadata": {},
   "outputs": [],
   "source": []
  }
 ],
 "metadata": {
  "kernelspec": {
   "display_name": "Python 3",
   "language": "python",
   "name": "python3"
  },
  "language_info": {
   "codemirror_mode": {
    "name": "ipython",
    "version": 3
   },
   "file_extension": ".py",
   "mimetype": "text/x-python",
   "name": "python",
   "nbconvert_exporter": "python",
   "pygments_lexer": "ipython3",
   "version": "3.6.3"
  }
 },
 "nbformat": 4,
 "nbformat_minor": 2
}
