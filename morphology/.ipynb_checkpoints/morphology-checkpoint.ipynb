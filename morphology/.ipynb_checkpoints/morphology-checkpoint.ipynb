{
 "cells": [
  {
   "cell_type": "code",
   "execution_count": null,
   "metadata": {},
   "outputs": [],
   "source": [
    "import cv2\n",
    "import numpy as np\n",
    "import os\n",
    "import matplotlib.pyplot as plt"
   ]
  },
  {
   "cell_type": "code",
   "execution_count": null,
   "metadata": {
    "collapsed": true
   },
   "outputs": [],
   "source": [
    "originImage = cv2.imread(\"lena.jpg\")\n",
    "grayImage = cv2.cvtColor(originImage,cv2.COLOR_BGR2GRAY)\n",
    "originImage32x32 = cv2.imread(\"lena_32x32.jpg\")\n",
    "grayImage32x32 = cv2.cvtColor(originImage32x32,cv2.COLOR_BGR2GRAY)\n",
    "plt.subplot(1, 3, 1)\n",
    "plt.title(\"full\")\n",
    "plt.imshow(originImage)\n",
    "plt.subplot(1, 3, 2)\n",
    "plt.title(\"gray\")\n",
    "plt.gray()\n",
    "plt.imshow(grayImage)"
   ]
  },
  {
   "cell_type": "code",
   "execution_count": null,
   "metadata": {
    "collapsed": true
   },
   "outputs": [],
   "source": [
    "def erode_hor(src,stride,r):\n",
    "    w,h=src.shape\n",
    "    dst=src.copy()\n",
    "    if r%2==0:\n",
    "        print(\"window should be odds\")\n",
    "        return\n",
    "    pos=0\n",
    "    min_=dst[pos]\n",
    "    while pos<w-2:\n",
    "        for col in range(2*r+1):\n",
    "            if min_>dst[pos+col]:\n",
    "                min_=dst[pos+col]\n",
    "        dst[pos+r]=min_\n",
    "        pos+=stride\n",
    "    return dst\n",
    "\n",
    "def erode_vet(src,stride,r):\n",
    "    w,h=src.shape\n",
    "    dst=src.copy()\n",
    "    if r%2==0:\n",
    "        print(\"window should be odds\")\n",
    "        return\n",
    "    pos=0\n",
    "    min_=dst[pos]\n",
    "    while pos<h-2:\n",
    "        for row in range(2*r+1):\n",
    "            if min_>dst[pos+row*w]:\n",
    "                min_=dst[pos+row*w]\n",
    "        dst[pos+r*w]=min_\n",
    "        pos+=stride*w\n",
    "    return dst\n",
    "\n",
    "def erode(src):\n",
    "    dst_h=erode_hor(src,stride=2,r=3)\n",
    "    dst_v=erode_vet(dst_h,stride=2,r=3)\n",
    "    return dst_v"
   ]
  },
  {
   "cell_type": "code",
   "execution_count": null,
   "metadata": {
    "collapsed": true
   },
   "outputs": [],
   "source": [
    "def dilate_hor(src,stride,r):\n",
    "    w,h=src.shape\n",
    "    dst=src.copy()\n",
    "    if r%2==0:\n",
    "        print(\"window should be odds\")\n",
    "        return\n",
    "    pos=0\n",
    "    max_=dst[pos]\n",
    "    while pos<w-2:\n",
    "        for col in range(2*r+1):\n",
    "            if max_<dst[pos+col]:\n",
    "                max_=dst[pos+col]\n",
    "        dst[pos+r]=max_\n",
    "        pos+=stride\n",
    "    return dst\n",
    "\n",
    "def dilate_vet(src,stride,r):\n",
    "    w,h=src.shape\n",
    "    dst=src.copy()\n",
    "    if r%2==0:\n",
    "        print(\"window should be odds\")\n",
    "        return\n",
    "    pos=0\n",
    "    max_=dst[pos]\n",
    "    while pos<h-2:\n",
    "        for row in range(2*r+1):\n",
    "            if max_<dst[pos+row*w]:\n",
    "                max_=dst[pos+row*w]\n",
    "        dst[pos+r*w]=max_\n",
    "        pos+=stride*w\n",
    "    return dst\n",
    "\n",
    "def dilate(src):\n",
    "    dst_h=dilate_hor(src,stride=2,r=3)\n",
    "    dst_v=dilate_vet(dst_h,stride=2,r=3)\n",
    "    return dst_v\n"
   ]
  },
  {
   "cell_type": "code",
   "execution_count": null,
   "metadata": {
    "collapsed": true
   },
   "outputs": [],
   "source": [
    "def open_ops(src):\n",
    "    e_img=erode(src)\n",
    "    d_img=dilate(e_img)\n",
    "    return d_img\n",
    "\n",
    "def close_ops(src):\n",
    "    d_img=dilate(src)\n",
    "    e_img=erode(d_img)\n",
    "    return e_img\n",
    "\n",
    "def top_hat_ops(src):\n",
    "    op_img=open_ops(src)\n",
    "    return (src-op_img)\n",
    "\n",
    "def bottom_hat_ops(src):\n",
    "    cs_img=close_ops(src)\n",
    "    return (src-cs_img)\n",
    "\n",
    "def morphy_grad(src):\n",
    "    d_img=dilate(src)\n",
    "    e_img=erode(src)\n",
    "    return (d_img-e_img)\n"
   ]
  }
 ],
 "metadata": {
  "kernelspec": {
   "display_name": "Python 3",
   "language": "python",
   "name": "python3"
  },
  "language_info": {
   "codemirror_mode": {
    "name": "ipython",
    "version": 3
   },
   "file_extension": ".py",
   "mimetype": "text/x-python",
   "name": "python",
   "nbconvert_exporter": "python",
   "pygments_lexer": "ipython3",
   "version": "3.5.2"
  }
 },
 "nbformat": 4,
 "nbformat_minor": 2
}
