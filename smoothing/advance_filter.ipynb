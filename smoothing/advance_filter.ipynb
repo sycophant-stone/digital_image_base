{
 "cells": [
  {
   "cell_type": "code",
   "execution_count": null,
   "metadata": {
    "collapsed": true
   },
   "outputs": [],
   "source": [
    "import cv2\n",
    "import numpy as np\n",
    "import os\n",
    "import matplotlib.pyplot as plt"
   ]
  },
  {
   "cell_type": "code",
   "execution_count": null,
   "metadata": {
    "collapsed": true
   },
   "outputs": [],
   "source": [
    "#添加噪声\n",
    "def random_noise_generator(src):\n",
    "    # 加上高斯噪声\n",
    "    param=25\n",
    "    # 灰阶范围\n",
    "    grayscale=256\n",
    "    w=src.shape[1]\n",
    "    h=src.shape[0]\n",
    "    newsrc=np.zeros((h,w),np.uint8)\n",
    "    \n",
    "    for x in range(0,h):\n",
    "        for y in range(0,w,2):\n",
    "            r1 = np.random.random_sample()\n",
    "            r2 = np.random.random_sample()\n",
    "            z1=param*np.cos(2*np.pi*r2)*np.sqrt((-2)*np.log(r1))\n",
    "            z2=param*np.sin(2*np.pi*r2)*np.sqrt((-2)*np.log(r1))\n",
    "    \n",
    "            fxy=int(src[x,y]+z1)\n",
    "            fxy1 = int(src[x,y+1]+z2)\n",
    "            #f(x,y)\n",
    "            if fxy<0:\n",
    "                fxy_val=0\n",
    "            elif fxy>grayscale-1:\n",
    "                fxy_val=grayscale-1\n",
    "            else:\n",
    "                fxy_val=fxy\n",
    "            #f(x,y+1)\n",
    "            if fxy1<0:\n",
    "                fxy1_val=0\n",
    "            elif fxy1>grayscale-1:\n",
    "                fxy1_val=grayscale-1\n",
    "            else:\n",
    "                fxy1_val=fxy1\n",
    "            newsrc[x,y]=fxy_val\n",
    "            newsrc[x,y+1]=fxy1_val\n",
    "        #print(\"-\")\n",
    "    return newsrc"
   ]
  },
  {
   "cell_type": "code",
   "execution_count": null,
   "metadata": {
    "collapsed": true
   },
   "outputs": [],
   "source": [
    "originImage = cv2.imread(\"lena.jpg\")\n",
    "grayImage = cv2.cvtColor(originImage,cv2.COLOR_BGR2GRAY)\n",
    "originImage32x32 = cv2.imread(\"lena_32x32.jpg\")\n",
    "grayImage32x32 = cv2.cvtColor(originImage32x32,cv2.COLOR_BGR2GRAY)\n",
    "plt.subplot(1, 3, 1)\n",
    "plt.title(\"full\")\n",
    "plt.imshow(originImage)\n",
    "plt.subplot(1, 3, 2)\n",
    "plt.title(\"gray\")\n",
    "plt.gray()\n",
    "plt.imshow(grayImage)"
   ]
  },
  {
   "cell_type": "code",
   "execution_count": null,
   "metadata": {
    "collapsed": true
   },
   "outputs": [],
   "source": [
    "def conv2d(src,kernel):\n",
    "    kw,kh=kernel.shape\n",
    "    iw,ih=src.shape\n",
    "    cw=int(kw/2)\n",
    "    ch=int(kh/2)\n",
    "    dest = src.copy()\n",
    "    for i in range(cw,iw-cw-1):\n",
    "        for j in range(ch,ih-ch-1):\n",
    "            temp=kernel*src[(i-cw):(i+cw+1),(j-ch):(j+ch+1)]\n",
    "            dest[i,j]=np.sum(temp)\n",
    "    return dest"
   ]
  },
  {
   "cell_type": "code",
   "execution_count": null,
   "metadata": {
    "collapsed": true
   },
   "outputs": [],
   "source": [
    "def Gaussian_filter(src, sigma=1.0, k_w = 3, k_h = 3):\n",
    "    #产生高斯核\n",
    "    h = src.shape[0]\n",
    "    w = src.shape[1]\n",
    "    dest = np.zeros((h,w), np.uint8)\n",
    "    kernel = np.zeros((k_h,k_w), np.float)\n",
    "    dest = src.copy()\n",
    "    \n",
    "    for i in range(k_h):\n",
    "        for j in range(k_w):\n",
    "            n = -(np.power(i,2)+np.power(j,2))/(2*np.power(sigma,2))\n",
    "            #np.exp(n) n意味着e的n次方\n",
    "            #print(\"n:\", n)\n",
    "            #print(\"(%d, %d) np.exp(%d):\", i, j, n, np.exp(n))\n",
    "            kernel[i,j] = np.exp(n)/(2*3.14*np.power(sigma,2))\n",
    "    #归一化操作\n",
    "    kernel=kernel/np.sum(kernel)\n",
    "    #print(\"kernel,sum\", kernel,np.sum(kernel))\n",
    "    \n",
    "    dest=conv2d(src,kernel)\n",
    "    return dest\n",
    "\n",
    "grayImage_noise = random_noise_generator(grayImage)\n",
    "gray_image_gaussianfilter3x3 = Gaussian_filter(grayImage_noise,sigma=1.5, k_w = 3, k_h = 3)\n",
    "plt.axis('off')\n",
    "plt.subplot(1, 1, 1)\n",
    "plt.title(\"gaussian3x3 sigma=1.5\")\n",
    "plt.imshow(gray_image_gaussianfilter3x3)"
   ]
  }
 ],
 "metadata": {
  "kernelspec": {
   "display_name": "Python 3",
   "language": "python",
   "name": "python3"
  },
  "language_info": {
   "codemirror_mode": {
    "name": "ipython",
    "version": 3
   },
   "file_extension": ".py",
   "mimetype": "text/x-python",
   "name": "python",
   "nbconvert_exporter": "python",
   "pygments_lexer": "ipython3",
   "version": "3.6.3"
  }
 },
 "nbformat": 4,
 "nbformat_minor": 2
}
